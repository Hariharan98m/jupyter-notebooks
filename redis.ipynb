{
 "cells": [
  {
   "cell_type": "markdown",
   "metadata": {},
   "source": [
    "# My Redis Notebook\n",
    "\n",
    "Run redis-server on a terminal.\n",
    "\n",
    "![image](https://github.com/Hariharan98m/jupyter-notebooks/blob/master/redis/1.JPG)"
   ]
  },
  {
   "cell_type": "markdown",
   "metadata": {},
   "source": [
    "Run client instance on another terminal\n",
    "\n",
    "![image.png](![image](https://github.com/Hariharan98m/jupyter-notebooks/blob/master/redis/2.JPG))"
   ]
  },
  {
   "cell_type": "markdown",
   "metadata": {},
   "source": [
    "## Redis Strings\n",
    "\n"
   ]
  },
  {
   "cell_type": "markdown",
   "metadata": {},
   "source": [
    "## Redis hashes\n",
    "\n",
    "A redis hash is a collection of field-value pairs under a single key, such that every field maps onto to a value. \n",
    "\n",
    "Example: \n",
    "\n",
    "`\n",
    "student: {\n",
    "       name: hari, \n",
    "       age: 15, \n",
    "       class: 10\n",
    "    }\n",
    "`\n",
    "\n",
    "Note that the key should be a string, and the value can be of any datatype."
   ]
  },
  {
   "cell_type": "code",
   "execution_count": null,
   "metadata": {},
   "outputs": [],
   "source": [
    "save  #saves the DB to disk"
   ]
  },
  {
   "cell_type": "code",
   "execution_count": null,
   "metadata": {},
   "outputs": [],
   "source": [
    "flushall  # flushes all the keys in the DB"
   ]
  },
  {
   "cell_type": "markdown",
   "metadata": {},
   "source": [
    "### Creating a hash"
   ]
  },
  {
   "cell_type": "code",
   "execution_count": null,
   "metadata": {},
   "outputs": [],
   "source": [
    "hmset stu-1 name hari age 15 class 10"
   ]
  },
  {
   "cell_type": "markdown",
   "metadata": {},
   "source": [
    "![image.png](![image](https://github.com/Hariharan98m/jupyter-notebooks/blob/master/redis/3.JPG))"
   ]
  },
  {
   "cell_type": "markdown",
   "metadata": {},
   "source": [
    "### Accessing fields in a hash"
   ]
  },
  {
   "cell_type": "code",
   "execution_count": null,
   "metadata": {},
   "outputs": [],
   "source": [
    "hget stu-1 name\n",
    "\n",
    "hget stu-1 age\n",
    "\n",
    "hget stu-1 class"
   ]
  },
  {
   "cell_type": "markdown",
   "metadata": {},
   "source": [
    "![image.png](![image](https://github.com/Hariharan98m/jupyter-notebooks/blob/master/redis/4.JPG))"
   ]
  },
  {
   "cell_type": "code",
   "execution_count": null,
   "metadata": {},
   "outputs": [],
   "source": [
    "hgetall stu-1"
   ]
  },
  {
   "cell_type": "markdown",
   "metadata": {},
   "source": [
    "![image.png](![image](https://github.com/Hariharan98m/jupyter-notebooks/blob/master/redis/5.JPG))"
   ]
  },
  {
   "cell_type": "markdown",
   "metadata": {},
   "source": [
    "### Check if a field exists in a key"
   ]
  },
  {
   "cell_type": "code",
   "execution_count": null,
   "metadata": {},
   "outputs": [],
   "source": [
    "hexists stu-1 name\n",
    "hexists stu-1 surname"
   ]
  },
  {
   "cell_type": "markdown",
   "metadata": {},
   "source": [
    "![image.png](![image](https://github.com/Hariharan98m/jupyter-notebooks/blob/master/redis/6.JPG))"
   ]
  },
  {
   "cell_type": "markdown",
   "metadata": {},
   "source": [
    "### Delete a field in a key"
   ]
  },
  {
   "cell_type": "code",
   "execution_count": null,
   "metadata": {},
   "outputs": [],
   "source": [
    "hdel stu-1 class"
   ]
  },
  {
   "cell_type": "markdown",
   "metadata": {},
   "source": [
    "![image.png](![image](https://github.com/Hariharan98m/jupyter-notebooks/blob/master/redis/7.JPG))"
   ]
  },
  {
   "cell_type": "markdown",
   "metadata": {},
   "source": [
    "### Set a field only if it doesn't exists"
   ]
  },
  {
   "cell_type": "code",
   "execution_count": null,
   "metadata": {},
   "outputs": [],
   "source": [
    "hsetnx stu-1 name tom\n",
    "hsetnx stu-1 nameT tom"
   ]
  },
  {
   "cell_type": "markdown",
   "metadata": {},
   "source": [
    "![image.png](![image](https://github.com/Hariharan98m/jupyter-notebooks/blob/master/redis/8.JPG))"
   ]
  }
 ],
 "metadata": {
  "kernelspec": {
   "display_name": "Python 3",
   "language": "python",
   "name": "python3"
  },
  "language_info": {
   "codemirror_mode": {
    "name": "ipython",
    "version": 3
   },
   "file_extension": ".py",
   "mimetype": "text/x-python",
   "name": "python",
   "nbconvert_exporter": "python",
   "pygments_lexer": "ipython3",
   "version": "3.6.4"
  }
 },
 "nbformat": 4,
 "nbformat_minor": 2
}
